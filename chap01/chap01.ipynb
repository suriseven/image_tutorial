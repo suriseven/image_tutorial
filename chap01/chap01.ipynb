{
 "cells": [
  {
   "cell_type": "markdown",
   "metadata": {},
   "source": [
    "# ***1차시: 이미지 데이터의 표현 방법과 학습 원리***\n",
    "\n",
    "### 사전 준비: Opencv 설치\n",
    "- opencv-python: 이미지 처리 도구 입니다\n",
    "- matplotlib: 시각화 도구 입니다"
   ]
  },
  {
   "cell_type": "code",
   "execution_count": 1,
   "metadata": {},
   "outputs": [
    {
     "name": "stdout",
     "output_type": "stream",
     "text": [
      "Collecting opencv-python\n",
      "  Using cached opencv_python-4.12.0.88-cp37-abi3-win_amd64.whl.metadata (19 kB)\n",
      "Requirement already satisfied: matplotlib in c:\\users\\minsul\\miniconda3\\lib\\site-packages (3.10.1)\n",
      "Requirement already satisfied: numpy<2.3.0,>=2 in c:\\users\\minsul\\miniconda3\\lib\\site-packages (from opencv-python) (2.2.6)\n",
      "Requirement already satisfied: contourpy>=1.0.1 in c:\\users\\minsul\\miniconda3\\lib\\site-packages (from matplotlib) (1.3.1)\n",
      "Requirement already satisfied: cycler>=0.10 in c:\\users\\minsul\\miniconda3\\lib\\site-packages (from matplotlib) (0.12.1)\n",
      "Requirement already satisfied: fonttools>=4.22.0 in c:\\users\\minsul\\miniconda3\\lib\\site-packages (from matplotlib) (4.56.0)\n",
      "Requirement already satisfied: kiwisolver>=1.3.1 in c:\\users\\minsul\\miniconda3\\lib\\site-packages (from matplotlib) (1.4.8)\n",
      "Requirement already satisfied: packaging>=20.0 in c:\\users\\minsul\\miniconda3\\lib\\site-packages (from matplotlib) (24.2)\n",
      "Requirement already satisfied: pillow>=8 in c:\\users\\minsul\\miniconda3\\lib\\site-packages (from matplotlib) (11.1.0)\n",
      "Requirement already satisfied: pyparsing>=2.3.1 in c:\\users\\minsul\\miniconda3\\lib\\site-packages (from matplotlib) (3.2.1)\n",
      "Requirement already satisfied: python-dateutil>=2.7 in c:\\users\\minsul\\miniconda3\\lib\\site-packages (from matplotlib) (2.9.0.post0)\n",
      "Requirement already satisfied: six>=1.5 in c:\\users\\minsul\\miniconda3\\lib\\site-packages (from python-dateutil>=2.7->matplotlib) (1.17.0)\n",
      "Using cached opencv_python-4.12.0.88-cp37-abi3-win_amd64.whl (39.0 MB)\n",
      "Installing collected packages: opencv-python\n",
      "Successfully installed opencv-python-4.12.0.88\n"
     ]
    }
   ],
   "source": [
    "! pip3 install opencv-python matplotlib"
   ]
  },
  {
   "cell_type": "markdown",
   "metadata": {},
   "source": [
    "### ***grid 이미지 열어보기***\n",
    "- 이 이미지는 5x4 크기의 바둑판 무늬 이미지 입니다\n",
    "- 이미지에 어떠한 정보가 있었기 때문에 이러한 그림이 나온 것일까요?\n",
    "- 컴퓨터의 파일상에 그림이 채색된 것은 아닙니다\n",
    "- 어떠한 숫자 정보가 기록되어 있고 그것을 이미지 출력 도구가 모니터에 채색을 해준 것입니다"
   ]
  },
  {
   "cell_type": "code",
   "execution_count": 12,
   "metadata": {},
   "outputs": [
    {
     "data": {
      "image/png": "[encoded data removed]",
      "text/plain": [
       "<Figure size 400x500 with 1 Axes>"
      ]
     },
     "metadata": {},
     "output_type": "display_data"
    }
   ],
   "source": [
    "import cv2\n",
    "import matplotlib.pyplot as plt\n",
    "\n",
    "img = cv2.imread(\"grid.bmp\")\n",
    "\n",
    "img_rgb = cv2.cvtColor(img, cv2.COLOR_BGR2RGB)\n",
    "\n",
    "plt.figure(figsize=(4,5))\n",
    "plt.imshow(img_rgb)\n",
    "plt.axis('off')\n",
    "plt.show()"
   ]
  },
  {
   "cell_type": "markdown",
   "metadata": {},
   "source": [
    "### ***이미지에 실제 들어있던 내용***\n",
    "- 5x4 크기의 바둑판 처럼 생긴 그림 파일을 읽어봅니다\n",
    "- 행렬과 같은 출력이 확인됩니다\n",
    "  - 2차원 행렬이 4개 나왔습니다\n",
    "  - 4개의 각 행렬그룹은 y축을 나타냅니다\n",
    "  - 각 행렬그룹 내에 있는 각 행은 x축을 나타냅니다\n",
    "  - 각 행의 성분은 색상입니다\n",
    "- 표현하고자 하는 성분이 3개 입니다\n",
    "  - 따라서 이 행렬은 3차원 행렬입니다\n",
    "  - 이미지는 x축 성분, y축 성분, 색상 성분을 표현하는 3차원 행렬입니다"
   ]
  },
  {
   "cell_type": "code",
   "execution_count": 30,
   "metadata": {},
   "outputs": [
    {
     "name": "stdout",
     "output_type": "stream",
     "text": [
      "[[[  0   0   0]\n",
      "  [255 255 255]\n",
      "  [  0   0   0]\n",
      "  [255 255 255]\n",
      "  [  0   0   0]]\n",
      "\n",
      " [[255 255 255]\n",
      "  [  0   0   0]\n",
      "  [255 255 255]\n",
      "  [  0   0   0]\n",
      "  [255 255 255]]\n",
      "\n",
      " [[  0   0   0]\n",
      "  [255 255 255]\n",
      "  [  0   0   0]\n",
      "  [255 255 255]\n",
      "  [  0   0   0]]\n",
      "\n",
      " [[255 255 255]\n",
      "  [  0   0   0]\n",
      "  [255 255 255]\n",
      "  [  0   0   0]\n",
      "  [255 255 255]]]\n"
     ]
    }
   ],
   "source": [
    "import cv2 as cv\n",
    "\n",
    "img = cv.imread('grid.bmp')\n",
    "\n",
    "print(img)"
   ]
  },
  {
   "cell_type": "markdown",
   "metadata": {},
   "source": [
    "### ***색상성분 알아보기***\n",
    "- 3개의 원소로 이루어진 색상 정보는 각각 어떤 의미일까요?\n",
    "- 다른 bmp파일들을 열어보면서 확인해보겠습니다\n",
    "- 먼저 파란색 격자무늬 파일을 읽어봅니다\n",
    "- 3개의 원소 중에서 첫번째 원소에만 255라고 적혀있습니다\n",
    "- 파란색 성분이 0 ~ 255 중에서 255만큼 진하게(최대로) 들어가 있다는 뜻입니다"
   ]
  },
  {
   "cell_type": "code",
   "execution_count": null,
   "metadata": {},
   "outputs": [
    {
     "name": "stdout",
     "output_type": "stream",
     "text": [
      "[[[  0   0   0]\n",
      "  [255   0   0]\n",
      "  [  0   0   0]\n",
      "  [255   0   0]\n",
      "  [  0   0   0]]\n",
      "\n",
      " [[255   0   0]\n",
      "  [  0   0   0]\n",
      "  [255   0   0]\n",
      "  [  0   0   0]\n",
      "  [255   0   0]]\n",
      "\n",
      " [[  0   0   0]\n",
      "  [255   0   0]\n",
      "  [  0   0   0]\n",
      "  [255   0   0]\n",
      "  [  0   0   0]]\n",
      "\n",
      " [[255   0   0]\n",
      "  [  0   0   0]\n",
      "  [255   0   0]\n",
      "  [  0   0   0]\n",
      "  [255   0   0]]]\n"
     ]
    }
   ],
   "source": [
    "import cv2 as cv\n",
    "\n",
    "blue_img = cv.imread('blue_grid.bmp')\n",
    "\n",
    "print(blue_img)"
   ]
  },
  {
   "cell_type": "markdown",
   "metadata": {},
   "source": [
    "### ***초록색 성분의 위치***\n",
    "- 3개의 원소 중에서 두번째 원소에만 255라고 적혀있습니다\n",
    "- 초록색 성분이 0 ~ 255 중에서 255만큼 진하게(최대로) 들어가 있다는 뜻입니다"
   ]
  },
  {
   "cell_type": "code",
   "execution_count": 18,
   "metadata": {},
   "outputs": [
    {
     "name": "stdout",
     "output_type": "stream",
     "text": [
      "[[[  0   0   0]\n",
      "  [  0 255   0]\n",
      "  [  0   0   0]\n",
      "  [  0 255   0]]\n",
      "\n",
      " [[  0 255   0]\n",
      "  [  0   0   0]\n",
      "  [  0 255   0]\n",
      "  [  0   0   0]]\n",
      "\n",
      " [[  0   0   0]\n",
      "  [  0 255   0]\n",
      "  [  0   0   0]\n",
      "  [  0 255   0]]\n",
      "\n",
      " [[  0 255   0]\n",
      "  [  0   0   0]\n",
      "  [  0 255   0]\n",
      "  [  0   0   0]]\n",
      "\n",
      " [[  0   0   0]\n",
      "  [  0 255   0]\n",
      "  [  0   0   0]\n",
      "  [  0 255   0]]]\n"
     ]
    }
   ],
   "source": [
    "import cv2 as cv\n",
    "\n",
    "green_img = cv.imread('green_grid.bmp')\n",
    "\n",
    "print(green_img)"
   ]
  },
  {
   "cell_type": "markdown",
   "metadata": {},
   "source": [
    "### ***붉은색 성분의 위치***\n",
    "- 3개의 원소 중에서 세번째 원소에만 255라고 적혀있습니다\n",
    "- 붉은색 성분이 0 ~ 255 중에서 255만큼 진하게(최대로) 들어가 있다는 뜻입니다"
   ]
  },
  {
   "cell_type": "code",
   "execution_count": 19,
   "metadata": {},
   "outputs": [
    {
     "name": "stdout",
     "output_type": "stream",
     "text": [
      "[[[  0   0   0]\n",
      "  [  0   0 255]\n",
      "  [  0   0   0]\n",
      "  [  0   0 255]\n",
      "  [  0   0   0]]\n",
      "\n",
      " [[  0   0 255]\n",
      "  [  0   0   0]\n",
      "  [  0   0 255]\n",
      "  [  0   0   0]\n",
      "  [  0   0 255]]\n",
      "\n",
      " [[  0   0   0]\n",
      "  [  0   0 255]\n",
      "  [  0   0   0]\n",
      "  [  0   0 255]\n",
      "  [  0   0   0]]\n",
      "\n",
      " [[  0   0 255]\n",
      "  [  0   0   0]\n",
      "  [  0   0 255]\n",
      "  [  0   0   0]\n",
      "  [  0   0 255]]]\n"
     ]
    }
   ],
   "source": [
    "import cv2 as cv\n",
    "\n",
    "red_img = cv.imread('red_grid.bmp')\n",
    "\n",
    "print(red_img)"
   ]
  },
  {
   "cell_type": "markdown",
   "metadata": {},
   "source": [
    "### ***이미지 기록하기***\n",
    "- 방금 읽은 붉은색 격자무늬 파일을 jpg 파일로 기록해봅니다\n",
    "- 이어서 파일이 생성된 것을 확인합니다"
   ]
  },
  {
   "cell_type": "code",
   "execution_count": 25,
   "metadata": {},
   "outputs": [
    {
     "data": {
      "text/plain": [
       "True"
      ]
     },
     "execution_count": 25,
     "metadata": {},
     "output_type": "execute_result"
    }
   ],
   "source": [
    "import cv2 as cv\n",
    "\n",
    "red_img = cv.imread('red_grid.bmp')\n",
    "cv.imwrite('red_grid.jpg', red_img)"
   ]
  },
  {
   "cell_type": "markdown",
   "metadata": {},
   "source": [
    "### ***달라진 결과***\n",
    "- 기록한 것을 그대로 읽었을 뿐인데 다른 결과가 나옵니다\n",
    "- 255와 0으로만 구성되어 있던 숫자가 달라졌습니다\n",
    "- jpg 는 손실압축 인코딩을 사용하기 때문에 디코딩 했을 때 원본 그대로 복원되지 않습니다"
   ]
  },
  {
   "cell_type": "code",
   "execution_count": 21,
   "metadata": {},
   "outputs": [
    {
     "name": "stdout",
     "output_type": "stream",
     "text": [
      "[[[  0   0  90]\n",
      "  [ 39  38 166]\n",
      "  [  0   0  90]\n",
      "  [ 40  39 167]\n",
      "  [  0   0  90]]\n",
      "\n",
      " [[ 40  39 167]\n",
      "  [  0   0  92]\n",
      "  [ 39  38 166]\n",
      "  [  0   0  91]\n",
      "  [ 41  40 168]]\n",
      "\n",
      " [[  0   0  90]\n",
      "  [ 38  37 165]\n",
      "  [  0   0  90]\n",
      "  [ 37  36 164]\n",
      "  [  0   0  90]]\n",
      "\n",
      " [[ 41  40 168]\n",
      "  [  0   0  90]\n",
      "  [ 42  41 169]\n",
      "  [  0   0  94]\n",
      "  [ 37  36 164]]]\n"
     ]
    }
   ],
   "source": [
    "img_jpg = cv.imread('red_grid.jpg')\n",
    "print(img_jpg)"
   ]
  },
  {
   "cell_type": "markdown",
   "metadata": {},
   "source": [
    "### ***다시 bmp로 기록해봅니다***\n",
    "- bmp 포맷은 무손실이기 때문에 기록 후 다시 읽었을 때 원본 그대로 복원 됩니다"
   ]
  },
  {
   "cell_type": "code",
   "execution_count": 26,
   "metadata": {},
   "outputs": [
    {
     "data": {
      "text/plain": [
       "True"
      ]
     },
     "execution_count": 26,
     "metadata": {},
     "output_type": "execute_result"
    }
   ],
   "source": [
    "import cv2 as cv\n",
    "\n",
    "red_img = cv.imread('red_grid.bmp')\n",
    "cv.imwrite('red_grid2.bmp', red_img)"
   ]
  },
  {
   "cell_type": "code",
   "execution_count": 28,
   "metadata": {},
   "outputs": [
    {
     "name": "stdout",
     "output_type": "stream",
     "text": [
      "[[[  0   0   0]\n",
      "  [  0   0 255]\n",
      "  [  0   0   0]\n",
      "  [  0   0 255]\n",
      "  [  0   0   0]]\n",
      "\n",
      " [[  0   0 255]\n",
      "  [  0   0   0]\n",
      "  [  0   0 255]\n",
      "  [  0   0   0]\n",
      "  [  0   0 255]]\n",
      "\n",
      " [[  0   0   0]\n",
      "  [  0   0 255]\n",
      "  [  0   0   0]\n",
      "  [  0   0 255]\n",
      "  [  0   0   0]]\n",
      "\n",
      " [[  0   0 255]\n",
      "  [  0   0   0]\n",
      "  [  0   0 255]\n",
      "  [  0   0   0]\n",
      "  [  0   0 255]]]\n"
     ]
    }
   ],
   "source": [
    "img_bmp = cv.imread('red_grid2.bmp')\n",
    "print(img_bmp)"
   ]
  },
  {
   "cell_type": "markdown",
   "metadata": {},
   "source": [
    "### ***png도 무손실***\n",
    "- png도 bmp처럼 파일로 기록 후 다시 읽었을 때 원본 그대로 복원 되는 것을 확인할 수 있습니다\n",
    "- 단, 이미지가 커지고 복잡해지면 jpg파일에 비해 용량은 커지게 됩니다"
   ]
  },
  {
   "cell_type": "code",
   "execution_count": 30,
   "metadata": {},
   "outputs": [
    {
     "data": {
      "text/plain": [
       "True"
      ]
     },
     "execution_count": 30,
     "metadata": {},
     "output_type": "execute_result"
    }
   ],
   "source": [
    "import cv2 as cv\n",
    "\n",
    "red_img = cv.imread('red_grid.bmp')\n",
    "cv.imwrite('red_grid.png', img_bmp)"
   ]
  },
  {
   "cell_type": "code",
   "execution_count": 31,
   "metadata": {},
   "outputs": [],
   "source": [
    "img_png = cv.imread('red_grid.png')"
   ]
  },
  {
   "cell_type": "code",
   "execution_count": null,
   "metadata": {},
   "outputs": [],
   "source": [
    "print(img_png)"
   ]
  },
  {
   "cell_type": "markdown",
   "metadata": {},
   "source": [
    "### ***흑백 이미지로 바꾸기***\n",
    "- 검정색과 흰색으로 이루어진 격자무늬 이미지를 읽어서 흑백으로 변경해봅니다\n",
    "- 그리고 행렬이 어떻게 바뀌었는지 확인해봅시다\n",
    "- 색상성분이 3개에서 1개로 줄어든 것을 확인할 수 있습니다\n",
    "- 이제는 2차원 행렬이 되었습니다"
   ]
  },
  {
   "cell_type": "code",
   "execution_count": 32,
   "metadata": {},
   "outputs": [
    {
     "name": "stdout",
     "output_type": "stream",
     "text": [
      "[[  0 255   0 255   0]\n",
      " [255   0 255   0 255]\n",
      " [  0 255   0 255   0]\n",
      " [255   0 255   0 255]]\n"
     ]
    }
   ],
   "source": [
    "import cv2 as cv\n",
    "\n",
    "img_color = cv.imread('grid.bmp')\n",
    "img_gray = cv.cvtColor(img_color, cv.COLOR_BGR2GRAY)\n",
    "print(img_gray)"
   ]
  },
  {
   "cell_type": "markdown",
   "metadata": {},
   "source": [
    "### ***흑백 이미지를 저장하고 읽어보기***\n",
    "- 이상하게도 다시 3차원이 되었습니다\n",
    "- 이미지 파일 자체는 3차원으로 기록이 됩니다\n",
    "- 우리가 읽을때 흑백이미지로 읽어야 합니다"
   ]
  },
  {
   "cell_type": "code",
   "execution_count": 35,
   "metadata": {},
   "outputs": [
    {
     "name": "stdout",
     "output_type": "stream",
     "text": [
      "[[[  0   0   0]\n",
      "  [255 255 255]\n",
      "  [  0   0   0]\n",
      "  [255 255 255]\n",
      "  [  0   0   0]]\n",
      "\n",
      " [[255 255 255]\n",
      "  [  0   0   0]\n",
      "  [255 255 255]\n",
      "  [  0   0   0]\n",
      "  [255 255 255]]\n",
      "\n",
      " [[  0   0   0]\n",
      "  [255 255 255]\n",
      "  [  0   0   0]\n",
      "  [255 255 255]\n",
      "  [  0   0   0]]\n",
      "\n",
      " [[255 255 255]\n",
      "  [  0   0   0]\n",
      "  [255 255 255]\n",
      "  [  0   0   0]\n",
      "  [255 255 255]]]\n"
     ]
    }
   ],
   "source": [
    "import cv2 as cv\n",
    "\n",
    "img_color = cv.imread('grid.bmp')\n",
    "img_gray = cv.cvtColor(img_color, cv.COLOR_BGR2GRAY)\n",
    "cv.imwrite('grid_grayscale.bmp', img_gray)\n",
    "\n",
    "img_gray = cv.imread('grid_grayscale.bmp')\n",
    "print(img_gray)"
   ]
  },
  {
   "cell_type": "markdown",
   "metadata": {},
   "source": [
    "### ***흑백 이미지 옵션으로 다시 읽기***\n",
    "- 흑백 이미지 옵션을 넣어서 읽으면 2차원 행렬이 된것을 확인할 수 있습니다\n",
    "- 원본 색상이 완전한 검정색과 완전한 흰색으로만 이루어져 있었기 때문에 흑백 변환 전후로 시각적인 변화가 체감되지 않습니다\n",
    "- 이제 검정색이 아닌 다른 색상의 이미지로 다시 테스트 해봅시다"
   ]
  },
  {
   "cell_type": "code",
   "execution_count": 42,
   "metadata": {},
   "outputs": [
    {
     "data": {
      "image/png": "[encoded data removed]",
      "text/plain": [
       "<Figure size 400x500 with 1 Axes>"
      ]
     },
     "metadata": {},
     "output_type": "display_data"
    },
    {
     "name": "stdout",
     "output_type": "stream",
     "text": [
      "[[  0 255   0 255   0]\n",
      " [255   0 255   0 255]\n",
      " [  0 255   0 255   0]\n",
      " [255   0 255   0 255]]\n"
     ]
    }
   ],
   "source": [
    "import cv2 as cv\n",
    "\n",
    "img_color = cv.imread('grid.bmp')\n",
    "img_gray = cv.cvtColor(img_color, cv.COLOR_BGR2GRAY)\n",
    "cv.imwrite('grid_grayscale.bmp', img_gray)\n",
    "\n",
    "img_gray = cv.imread('grid_grayscale.bmp')\n",
    "img_rgb = cv2.cvtColor(img_gray, cv2.COLOR_BGR2RGB)\n",
    "plt.figure(figsize=(4,5))\n",
    "plt.imshow(img_rgb)\n",
    "plt.axis('off')\n",
    "plt.show()\n",
    "\n",
    "img_gray = cv.imread('grid_grayscale.bmp', cv.IMREAD_GRAYSCALE)\n",
    "print(img_gray)"
   ]
  },
  {
   "cell_type": "markdown",
   "metadata": {},
   "source": [
    "### ***붉은색 격자무늬 이미지 흑백으로 저장하기***\n",
    "- 확실히 흑백이미지 같기는 합니다\n",
    "- 그러나 색상 성분은 컬러 이미지가 맞습니다\n",
    "- 이미지 파일 자체에는 3차원 행렬로 색상성분이 모두 표현되는 것입니다\n",
    "- 흑백이미지가 이미지 파일로 저장된다는 것은 컬러성분을 이용해 흑백 색상이 만들어지고 그것을 저장한 것입니다"
   ]
  },
  {
   "cell_type": "code",
   "execution_count": 41,
   "metadata": {},
   "outputs": [
    {
     "data": {
      "image/png": "[encoded data removed]",
      "text/plain": [
       "<Figure size 400x500 with 1 Axes>"
      ]
     },
     "metadata": {},
     "output_type": "display_data"
    },
    {
     "name": "stdout",
     "output_type": "stream",
     "text": [
      "[[[ 0  0  0]\n",
      "  [76 76 76]\n",
      "  [ 0  0  0]\n",
      "  [76 76 76]\n",
      "  [ 0  0  0]]\n",
      "\n",
      " [[76 76 76]\n",
      "  [ 0  0  0]\n",
      "  [76 76 76]\n",
      "  [ 0  0  0]\n",
      "  [76 76 76]]\n",
      "\n",
      " [[ 0  0  0]\n",
      "  [76 76 76]\n",
      "  [ 0  0  0]\n",
      "  [76 76 76]\n",
      "  [ 0  0  0]]\n",
      "\n",
      " [[76 76 76]\n",
      "  [ 0  0  0]\n",
      "  [76 76 76]\n",
      "  [ 0  0  0]\n",
      "  [76 76 76]]]\n"
     ]
    }
   ],
   "source": [
    "import cv2 as cv\n",
    "\n",
    "img_color = cv.imread('red_grid.bmp')\n",
    "img_gray = cv.cvtColor(img_color, cv.COLOR_BGR2GRAY)\n",
    "cv.imwrite('red_grid_grayscale.bmp', img_gray)\n",
    "\n",
    "img_gray = cv.imread('red_grid_grayscale.bmp')\n",
    "img_rgb = cv2.cvtColor(img_gray, cv2.COLOR_BGR2RGB)\n",
    "\n",
    "plt.figure(figsize=(4,5))\n",
    "plt.imshow(img_rgb)\n",
    "plt.axis('off')\n",
    "plt.show()\n",
    "print(img_gray)"
   ]
  },
  {
   "cell_type": "markdown",
   "metadata": {},
   "source": [
    "### ***우리만의 이미지 포맷을 만들어 봅시다***\n",
    "- 숫자 하나씩 쓰고 줄바꿈이 나오는 포맷입니다\n",
    "- 맨처음 3행은 높이, 너비, 색상 수 입니다\n",
    "- 그 밑으로는 왼쪽 위부터 오른쪽 아래로 내려가면서 나오는 픽셀별 채널 색상 정보입니다"
   ]
  },
  {
   "cell_type": "code",
   "execution_count": 44,
   "metadata": {},
   "outputs": [],
   "source": [
    "import cv2 as cv\n",
    "\n",
    "img = cv.imread('red_grid.bmp')\n",
    "\n",
    "height, width, channel = img.shape\n",
    "\n",
    "f = open('red_grid.txt', 'w')\n",
    "f.write(str(height))\n",
    "f.write('\\n')\n",
    "f.write(str(width))\n",
    "f.write('\\n')\n",
    "f.write(str(channel))\n",
    "f.write('\\n')\n",
    "\n",
    "for h in range(0, height):\n",
    "    for w in range(0, width):\n",
    "        for c in range(0, channel):\n",
    "            f.write(str(img[h][w][c]))\n",
    "            f.write('\\n')\n",
    "\n",
    "f.close()\n"
   ]
  },
  {
   "cell_type": "markdown",
   "metadata": {},
   "source": [
    "### ***우리만의 이미지 포맷을 읽어봅시다***\n",
    "- 똑같이 읽어지는지 확인해봅니다\n",
    "- 그저 숫자가 써있는 텍스트파일이었는데 이미지였습니다\n",
    "- 따라서 이미지는 그저 숫자가 써있는 정보 라는 것을 알 수 있습니다"
   ]
  },
  {
   "cell_type": "code",
   "execution_count": 51,
   "metadata": {},
   "outputs": [
    {
     "data": {
      "image/png": "[encoded data removed]",
      "text/plain": [
       "<Figure size 400x500 with 1 Axes>"
      ]
     },
     "metadata": {},
     "output_type": "display_data"
    }
   ],
   "source": [
    "import numpy as np\n",
    "import cv2 as cv\n",
    "from matplotlib import pyplot as plt\n",
    "\n",
    "f = open('red_grid.txt', 'r')\n",
    "\n",
    "height = int(f.readline().strip())\n",
    "width  = int(f.readline().strip())\n",
    "channel  = int(f.readline().strip())\n",
    "\n",
    "myimg = np.arange(height*width*channel)\n",
    "myimg = myimg.reshape(height, width, channel)\n",
    "\n",
    "for h in range(0, height):\n",
    "    for w in range(0, width):\n",
    "        for c in range(0, channel):\n",
    "            myimg[h][w][c] = int(f.readline().strip())\n",
    "\n",
    "myimg = cv.cvtColor(myimg.astype(np.uint8), cv.COLOR_BGR2RGB)\n",
    "plt.figure(figsize=(4,5))\n",
    "plt.imshow(myimg)\n",
    "plt.axis('off')\n",
    "plt.show()"
   ]
  },
  {
   "cell_type": "markdown",
   "metadata": {},
   "source": [
    "### ***텍스트 파일을 수정해서 이미지를 변경해봅니다***\n",
    "- 255로 되어있는 숫자 하나를 변경해봅시다"
   ]
  },
  {
   "cell_type": "code",
   "execution_count": 52,
   "metadata": {},
   "outputs": [
    {
     "data": {
      "image/png": "[encoded data removed]",
      "text/plain": [
       "<Figure size 400x500 with 1 Axes>"
      ]
     },
     "metadata": {},
     "output_type": "display_data"
    }
   ],
   "source": [
    "import numpy as np\n",
    "import cv2 as cv\n",
    "from matplotlib import pyplot as plt\n",
    "\n",
    "f = open('red_grid.txt', 'r')\n",
    "\n",
    "height = int(f.readline().strip())\n",
    "width  = int(f.readline().strip())\n",
    "channel  = int(f.readline().strip())\n",
    "\n",
    "myimg = np.arange(height*width*channel)\n",
    "myimg = myimg.reshape(height, width, channel)\n",
    "\n",
    "for h in range(0, height):\n",
    "    for w in range(0, width):\n",
    "        for c in range(0, channel):\n",
    "            myimg[h][w][c] = int(f.readline().strip())\n",
    "\n",
    "myimg = cv.cvtColor(myimg.astype(np.uint8), cv.COLOR_BGR2RGB)\n",
    "plt.figure(figsize=(4,5))\n",
    "plt.imshow(myimg)\n",
    "plt.axis('off')\n",
    "plt.show()"
   ]
  }
 ],
 "metadata": {
  "kernelspec": {
   "display_name": "base",
   "language": "python",
   "name": "python3"
  },
  "language_info": {
   "codemirror_mode": {
    "name": "ipython",
    "version": 3
   },
   "file_extension": ".py",
   "mimetype": "text/x-python",
   "name": "python",
   "nbconvert_exporter": "python",
   "pygments_lexer": "ipython3",
   "version": "3.12.9"
  }
 },
 "nbformat": 4,
 "nbformat_minor": 2
}
